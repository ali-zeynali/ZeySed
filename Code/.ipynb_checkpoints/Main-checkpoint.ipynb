{
 "cells": [
  {
   "cell_type": "code",
   "execution_count": 1,
   "metadata": {},
   "outputs": [],
   "source": [
    "import numpy as np\n",
    "import matplotlib.pyplot as plt\n",
    "import torch\n",
    "\n",
    "import torch.nn as nn\n",
    "import torch.optim as optim\n",
    "from torch.utils.data import DataLoader\n",
    "from torch.utils.data import sampler\n",
    "from tqdm import tqdm\n",
    "import torchvision.datasets as dset\n",
    "import torchvision.transforms as T\n",
    "from Plant_NN import Plant_NN, Flatten\n",
    "import torch.nn.functional as F\n",
    "import numpy as np"
   ]
  },
  {
   "cell_type": "code",
   "execution_count": 2,
   "metadata": {},
   "outputs": [],
   "source": [
    "def check_accuracy_part34(loader, model, test=False):\n",
    "#     if not test:\n",
    "#         print('Checking accuracy on validation set')\n",
    "#     else:\n",
    "#         print('Checking accuracy on test set')   \n",
    "    num_correct = 0\n",
    "    num_samples = 0\n",
    "    model.eval()  # set model to evaluation mode\n",
    "    with torch.no_grad():\n",
    "        for val in loader:\n",
    "            x = val['images']\n",
    "            y = val['labels']\n",
    "            x = x.to(device=device, dtype=dtype)  # move to device, e.g. GPU\n",
    "            y = y.to(device=device, dtype=torch.long)\n",
    "            scores = model(x)\n",
    "            _, preds = scores.max(1)\n",
    "            num_correct += (preds == y).sum()\n",
    "            num_samples += preds.size(0)\n",
    "        acc = float(num_correct) / num_samples\n",
    "        return num_correct,num_samples, acc\n",
    "        \n",
    "        \n",
    "def train_part34(model, optimizer, epochs=20, print_every=100):\n",
    "    \"\"\"\n",
    "    Train a model on CIFAR-10 using the PyTorch Module API.\n",
    "    \n",
    "    Inputs:\n",
    "    - model: A PyTorch Module giving the model to train.\n",
    "    - optimizer: An Optimizer object we will use to train the model\n",
    "    - epochs: (Optional) A Python integer giving the number of epochs to train for\n",
    "    \n",
    "    Returns: Nothing, but prints model accuracies during training.\n",
    "    \"\"\"\n",
    "    model = model.to(device=device)  # move the model parameters to CPU/GPU\n",
    "    val_accuracy = []\n",
    "    loss_vals = []\n",
    "    for e in range(epochs):\n",
    "#         loop = tqdm(loader_train, position=0, colour=\"BLACK\", leave=True, desc=f\"Epoch [{e+1}/{epochs}]: \")\n",
    "#         for batch in loop:\n",
    "#             x = batch[\"images\"].float().to(device)\n",
    "#             y = batch[\"labels\"].long().to(\"cpu\")\n",
    "        \n",
    "        for t, val in enumerate(loader_train):\n",
    "            model.train()  # put model to training mode\n",
    "            x = val['images']\n",
    "            y = val['labels']\n",
    "            x = x.to(device=device, dtype=dtype)  # move to device, e.g. GPU\n",
    "            y = y.to(device=device, dtype=torch.long)\n",
    "            model.train()  # put model to training mode\n",
    "#             x = x.to(device=device, dtype=dtype)  # move to device, e.g. GPU\n",
    "#             y = y.to(device=device, dtype=torch.long)\n",
    "\n",
    "            scores = model(x)\n",
    "            loss = F.cross_entropy(scores, y)\n",
    "\n",
    "            # Zero out all of the gradients for the variables which the optimizer\n",
    "            # will update.\n",
    "            optimizer.zero_grad()\n",
    "\n",
    "            # This is the backwards pass: compute the gradient of the loss with\n",
    "            # respect to each  parameter of the model.\n",
    "            loss.backward()\n",
    "\n",
    "            # Actually update the parameters of the model using the gradients\n",
    "            # computed by the backwards pass.\n",
    "            optimizer.step()\n",
    "            num_correct,num_samples, acc = check_accuracy_part34(validation_loader, model)\n",
    "#             val_accuracy.append(100*acc)\n",
    "            loss_val = loss.item()\n",
    "            if t % print_every == 0:\n",
    "                print('Epoch: %d, Iteration %d, loss = %.4f' % (e, t, loss_val))\n",
    "                print('Got %d / %d correct (%.2f)' % (num_correct, num_samples, 100 * acc))\n",
    "        val_accuracy.append(100*acc)\n",
    "        loss_vals.append(loss_val)\n",
    "    return val_accuracy, loss_vals\n",
    "                \n",
    "def collate_fn(batch):\n",
    "    all_images, all_labels = [], []\n",
    "    for item in batch:\n",
    "        image = item.image\n",
    "        label = item.label\n",
    "        \n",
    "        all_images.append(item.image.tolist())\n",
    "        all_labels.append(label)\n",
    "        \n",
    "    return { \n",
    "        \"images\": torch.tensor(all_images),\n",
    "        \"labels\": torch.tensor(all_labels, dtype=torch.int8)\n",
    "    }"
   ]
  },
  {
   "cell_type": "code",
   "execution_count": 3,
   "metadata": {},
   "outputs": [
    {
     "name": "stdout",
     "output_type": "stream",
     "text": [
      "using device: cuda\n"
     ]
    }
   ],
   "source": [
    "USE_GPU = True\n",
    "\n",
    "dtype = torch.float32 # we will be using float throughout this tutorial\n",
    "\n",
    "if USE_GPU and torch.cuda.is_available():\n",
    "    device = torch.device('cuda')\n",
    "else:\n",
    "    device = torch.device('cpu')\n",
    "\n",
    "# Constant to control how frequently we print train loss\n",
    "print_every = 100\n",
    "\n",
    "print('using device:', device)"
   ]
  },
  {
   "cell_type": "code",
   "execution_count": 4,
   "metadata": {},
   "outputs": [],
   "source": [
    "\n",
    "\"\"\"\n",
    "\n",
    "LOAD DATASET\n",
    "\n",
    "\n",
    "\"\"\"\n",
    "from addict import Dict\n",
    "from Dataset import PlantDiseaseDataset\n",
    "from albumentations.pytorch.transforms import ToTensorV2\n",
    "import albumentations as A\n",
    "image_target_shape = (256, 256)\n",
    "image_dim = image_target_shape[0] * image_target_shape[1]\n",
    "\n",
    "config = Dict({\n",
    "    \"train_path\": \"../dataset/Train/Train\",\n",
    "    \"test_path\": \"../dataset/Test/Test\",\n",
    "    \"validation_path\": \"../dataset/Validation/Validation\"\n",
    "})\n",
    "\n",
    "train_config = Dict({\n",
    "    \"image_shape\": image_target_shape,\n",
    "    \"image_channels\": 3,\n",
    "    \"num_workers\": 0,\n",
    "    \"batch_size\": 26,\n",
    "\n",
    "    \"augmentations\": A.Compose([\n",
    "        A.HorizontalFlip(p=0.5),\n",
    "        A.VerticalFlip(p=0.5),\n",
    "        #A.Blur(p=1),\n",
    "        ToTensorV2(),\n",
    "    ]),\n",
    "    \"optimizer\": {\n",
    "        \"type\": \"AdamW\",\n",
    "        \"parameters\": {\n",
    "            \"lr\": 0.001,\n",
    "            \"weight_decay\": 0.01,\n",
    "        }\n",
    "    },\n",
    "    \n",
    "    \"scheduler\": {\n",
    "        \"type\": \"ReduceLROnPlateau\",\n",
    "        \"parameters\": {\n",
    "            \"patience\": 2,\n",
    "            \"mode\": \"min\",\n",
    "            \"factor\": 0.1,\n",
    "        }\n",
    "    }\n",
    "})\n"
   ]
  },
  {
   "cell_type": "code",
   "execution_count": 5,
   "metadata": {},
   "outputs": [],
   "source": [
    "select_p = 0.4\n",
    "train_dataset = PlantDiseaseDataset(path=config.train_path, select_p=select_p,\n",
    "                                    image_shape=train_config.image_shape, \n",
    "                                    channels=train_config.image_channels)\n",
    "\n",
    "validation_dataset = PlantDiseaseDataset(path=config.validation_path, \n",
    "                                         augmentations=train_config.augmentations,\n",
    "                                         image_shape=train_config.image_shape, \n",
    "                                         channels=train_config.image_channels)\n",
    "\n",
    "test_dataset = PlantDiseaseDataset(path=config.test_path, \n",
    "                                   augmentations=train_config.augmentations,\n",
    "                                   image_shape=train_config.image_shape, \n",
    "                                   channels=train_config.image_channels)"
   ]
  },
  {
   "cell_type": "code",
   "execution_count": 6,
   "metadata": {},
   "outputs": [
    {
     "name": "stdout",
     "output_type": "stream",
     "text": [
      "517\n"
     ]
    }
   ],
   "source": [
    "print(len(train_dataset))"
   ]
  },
  {
   "cell_type": "code",
   "execution_count": 7,
   "metadata": {},
   "outputs": [],
   "source": [
    "loader_train = DataLoader(dataset=train_dataset, \n",
    "                          batch_size=train_config.batch_size, \n",
    "                          num_workers=train_config.num_workers, \n",
    "                          pin_memory=True, \n",
    "                          shuffle=True, \n",
    "                          collate_fn=collate_fn)\n",
    "\n",
    "validation_loader = DataLoader(dataset=validation_dataset, \n",
    "                               batch_size=train_config.batch_size*2, \n",
    "                               num_workers=train_config.num_workers, \n",
    "                               pin_memory=True, \n",
    "                               shuffle=False, \n",
    "                               collate_fn=collate_fn)\n",
    "\n",
    "test_loader = DataLoader(dataset=test_dataset, \n",
    "                         batch_size=train_config.batch_size*2, \n",
    "                         num_workers=train_config.num_workers, \n",
    "                         pin_memory=True, \n",
    "                         shuffle=False, \n",
    "                         collate_fn=collate_fn)"
   ]
  },
  {
   "cell_type": "code",
   "execution_count": 8,
   "metadata": {},
   "outputs": [
    {
     "data": {
      "text/plain": [
       "torch.Size([3, 256, 256])"
      ]
     },
     "execution_count": 8,
     "metadata": {},
     "output_type": "execute_result"
    }
   ],
   "source": [
    "train_dataset[0]['image'].shape"
   ]
  },
  {
   "cell_type": "code",
   "execution_count": 9,
   "metadata": {},
   "outputs": [
    {
     "name": "stdout",
     "output_type": "stream",
     "text": [
      "Size of train samples: 517\n",
      "Size of validation samples: 60\n",
      "Size of test samples: 150\n"
     ]
    }
   ],
   "source": [
    "print(\"Size of train samples: {0}\".format(len(train_dataset)))\n",
    "print(\"Size of validation samples: {0}\".format(len(validation_dataset)))\n",
    "print(\"Size of test samples: {0}\".format(len(test_dataset)))"
   ]
  },
  {
   "cell_type": "code",
   "execution_count": 15,
   "metadata": {},
   "outputs": [],
   "source": [
    "\n",
    "\n",
    "plant = Plant_NN()\n",
    "plant.add_conv_layer(3, 16, cnn_padding=1, cnn_filter_size=3, cnn_stride=1, max_pool_size=3,max_pool_stride=1, \n",
    "                     max_pool_padding=1, bn_on=True, dropout_on=False, dropout_p=0.5) #out: 256 x 256 x 64\n",
    "\n",
    "plant.add_conv_layer(16, 32, cnn_padding=2, cnn_filter_size=5, cnn_stride=1, max_pool_size=2,max_pool_stride=2,\n",
    "                     max_pool_padding=0, bn_on=True, dropout_on=False, dropout_p=0.5) #out: 128 x 128 x 128\n",
    "\n",
    "plant.add_conv_layer(32, 64, cnn_padding=2, cnn_filter_size=5, cnn_stride=1, max_pool_size=2,max_pool_stride=2,\n",
    "                     max_pool_padding=0, bn_on=True, dropout_on=True, dropout_p=0.5) # out 64 x 64 x 256\n",
    "\n",
    "# plant.add_conv_layer(128, 256, 2, 2, 1, 2,1, 2, bn_on=True, dropout_on=True, dropout_p=0.5)\n",
    "plant.add_fc_layer(64 * 64 * 64, 256, dropout_on=True, dropout_p=0.5)\n",
    "plant.add_fc_layer(256, 3, dropout_on=True, dropout_p=0.5)"
   ]
  },
  {
   "cell_type": "code",
   "execution_count": 16,
   "metadata": {},
   "outputs": [],
   "source": [
    "model = plant.get_model()"
   ]
  },
  {
   "cell_type": "code",
   "execution_count": 17,
   "metadata": {},
   "outputs": [],
   "source": [
    "learning_rate = 5e-4\n",
    "\n",
    "\n",
    "optimizer = optim.SGD(model.parameters(), lr=learning_rate,\n",
    "                     momentum=0.9, nesterov=True)\n"
   ]
  },
  {
   "cell_type": "code",
   "execution_count": 18,
   "metadata": {},
   "outputs": [],
   "source": [
    "import gc\n",
    "\n",
    "gc.collect()\n",
    "\n",
    "torch.cuda.empty_cache()"
   ]
  },
  {
   "cell_type": "code",
   "execution_count": 19,
   "metadata": {},
   "outputs": [
    {
     "name": "stdout",
     "output_type": "stream",
     "text": [
      "Epoch: 0, Iteration 0, loss = 1.3798\n",
      "Got 20 / 60 correct (33.33)\n",
      "Epoch: 1, Iteration 0, loss = 2.7423\n",
      "Got 21 / 60 correct (35.00)\n",
      "Epoch: 2, Iteration 0, loss = 0.5160\n",
      "Got 27 / 60 correct (45.00)\n",
      "Epoch: 3, Iteration 0, loss = 0.2089\n",
      "Got 42 / 60 correct (70.00)\n",
      "Epoch: 4, Iteration 0, loss = 0.3729\n",
      "Got 41 / 60 correct (68.33)\n",
      "Epoch: 5, Iteration 0, loss = 0.0648\n",
      "Got 45 / 60 correct (75.00)\n",
      "Epoch: 6, Iteration 0, loss = 0.2526\n",
      "Got 46 / 60 correct (76.67)\n",
      "Epoch: 7, Iteration 0, loss = 0.1840\n",
      "Got 49 / 60 correct (81.67)\n",
      "Epoch: 8, Iteration 0, loss = 0.1723\n",
      "Got 41 / 60 correct (68.33)\n",
      "Epoch: 9, Iteration 0, loss = 0.0622\n",
      "Got 47 / 60 correct (78.33)\n",
      "Epoch: 10, Iteration 0, loss = 0.0860\n",
      "Got 45 / 60 correct (75.00)\n",
      "Epoch: 11, Iteration 0, loss = 0.0286\n",
      "Got 49 / 60 correct (81.67)\n",
      "Epoch: 12, Iteration 0, loss = 0.1021\n",
      "Got 45 / 60 correct (75.00)\n",
      "Epoch: 13, Iteration 0, loss = 0.0175\n",
      "Got 48 / 60 correct (80.00)\n",
      "Epoch: 14, Iteration 0, loss = 0.0662\n",
      "Got 45 / 60 correct (75.00)\n",
      "Epoch: 15, Iteration 0, loss = 0.0421\n",
      "Got 44 / 60 correct (73.33)\n",
      "Epoch: 16, Iteration 0, loss = 0.0174\n",
      "Got 45 / 60 correct (75.00)\n",
      "Epoch: 17, Iteration 0, loss = 0.0021\n",
      "Got 49 / 60 correct (81.67)\n",
      "Epoch: 18, Iteration 0, loss = 0.0584\n",
      "Got 46 / 60 correct (76.67)\n",
      "Epoch: 19, Iteration 0, loss = 0.0086\n",
      "Got 42 / 60 correct (70.00)\n"
     ]
    }
   ],
   "source": [
    "val_accuracy, loss_vals = train_part34(model, optimizer, epochs=20)"
   ]
  },
  {
   "cell_type": "code",
   "execution_count": null,
   "metadata": {},
   "outputs": [],
   "source": []
  },
  {
   "cell_type": "code",
   "execution_count": 94,
   "metadata": {},
   "outputs": [],
   "source": [
    "val_accuracy.insert(0, 33.33)"
   ]
  },
  {
   "cell_type": "code",
   "execution_count": 95,
   "metadata": {},
   "outputs": [],
   "source": [
    "loss_vals.insert(0, 1.245)"
   ]
  },
  {
   "cell_type": "code",
   "execution_count": 22,
   "metadata": {},
   "outputs": [
    {
     "data": {
      "image/png": "[encoded data removed]",
      "text/plain": [
       "<Figure size 432x288 with 1 Axes>"
      ]
     },
     "metadata": {
      "needs_background": "light"
     },
     "output_type": "display_data"
    }
   ],
   "source": [
    "\n",
    "\n",
    "epoch = len(val_accuracy)\n",
    "plt.rcParams.update({'font.size': 14})\n",
    "plt.plot(range(epoch), val_accuracy)\n",
    "plt.xlabel(\"Epoch\")\n",
    "plt.ylabel(\"Validation Accuracy\")\n",
    "plt.xticks([1,5,10,15,20])\n",
    "plt.savefig(\"../fig/Val_acc_f.png\", dpi=600)\n",
    "plt.show()"
   ]
  },
  {
   "cell_type": "code",
   "execution_count": 23,
   "metadata": {},
   "outputs": [
    {
     "data": {
      "image/png": "[encoded data removed]",
      "text/plain": [
       "<Figure size 432x288 with 1 Axes>"
      ]
     },
     "metadata": {
      "needs_background": "light"
     },
     "output_type": "display_data"
    }
   ],
   "source": [
    "epoch = len(loss_vals)\n",
    "\n",
    "plt.plot(range(epoch), loss_vals)\n",
    "plt.xlabel(\"Epoch\")\n",
    "plt.ylabel(\"Loss\")\n",
    "plt.xticks([1,5,10,15,20])\n",
    "plt.savefig(\"../fig/Loss_f.png\", dpi=600)\n",
    "plt.show()"
   ]
  },
  {
   "cell_type": "code",
   "execution_count": 89,
   "metadata": {},
   "outputs": [],
   "source": [
    "xx = [1,2,3]"
   ]
  },
  {
   "cell_type": "code",
   "execution_count": 90,
   "metadata": {},
   "outputs": [],
   "source": [
    "xx.insert(10, 0)"
   ]
  },
  {
   "cell_type": "code",
   "execution_count": 91,
   "metadata": {},
   "outputs": [
    {
     "data": {
      "text/plain": [
       "[1, 2, 3, 0]"
      ]
     },
     "execution_count": 91,
     "metadata": {},
     "output_type": "execute_result"
    }
   ],
   "source": [
    "xx"
   ]
  },
  {
   "cell_type": "code",
   "execution_count": 92,
   "metadata": {},
   "outputs": [],
   "source": [
    "xx.insert(0, 10)"
   ]
  },
  {
   "cell_type": "code",
   "execution_count": 93,
   "metadata": {},
   "outputs": [
    {
     "data": {
      "text/plain": [
       "[10, 1, 2, 3, 0]"
      ]
     },
     "execution_count": 93,
     "metadata": {},
     "output_type": "execute_result"
    }
   ],
   "source": [
    "xx"
   ]
  },
  {
   "cell_type": "code",
   "execution_count": null,
   "metadata": {},
   "outputs": [],
   "source": []
  }
 ],
 "metadata": {
  "kernelspec": {
   "display_name": "Python 3",
   "language": "python",
   "name": "python3"
  },
  "language_info": {
   "codemirror_mode": {
    "name": "ipython",
    "version": 3
   },
   "file_extension": ".py",
   "mimetype": "text/x-python",
   "name": "python",
   "nbconvert_exporter": "python",
   "pygments_lexer": "ipython3",
   "version": "3.8.10"
  }
 },
 "nbformat": 4,
 "nbformat_minor": 5
}
